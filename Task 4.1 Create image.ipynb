{
 "cells": [
  {
   "cell_type": "code",
   "execution_count": 11,
   "metadata": {},
   "outputs": [],
   "source": [
    "import numpy as np\n",
    "import cv2"
   ]
  },
  {
   "cell_type": "code",
   "execution_count": 12,
   "metadata": {},
   "outputs": [],
   "source": [
    "img = np.zeros((400,400,3))\n",
    "photo = cv2.rectangle(img, (100,50), (300,230), [250,50,255], 7)\n",
    "photo = cv2.line(img, (146,237), (146,350), [0,0,255], 10)\n",
    "photo = cv2.line(img, (245,237), (245,350), [0,0,255], 10)\n",
    "photo = cv2.circle(img, (155,90), 10 ,[0,255,0],-1)\n",
    "photo = cv2.circle(img, (235,90), 10 ,[0,255,0],-1)\n",
    "photo = cv2.line(img,(175,170),(205,170),[0,255,0],2)\n",
    "image = cv2.putText(img, 'Draw By Lalita Rajpoot' ,(15, 25), cv2.FONT_HERSHEY_SIMPLEX, 1, (255, 255, 0), 2, cv2.LINE_AA)"
   ]
  },
  {
   "cell_type": "code",
   "execution_count": 13,
   "metadata": {},
   "outputs": [],
   "source": [
    "cv2.imshow(\"Task4-1\", photo)\n",
    "cv2.waitKey(0)\n",
    "cv2.destroyAllWindows()"
   ]
  },
  {
   "cell_type": "code",
   "execution_count": null,
   "metadata": {},
   "outputs": [],
   "source": []
  }
 ],
 "metadata": {
  "kernelspec": {
   "display_name": "Python 3",
   "language": "python",
   "name": "python3"
  },
  "language_info": {
   "codemirror_mode": {
    "name": "ipython",
    "version": 3
   },
   "file_extension": ".py",
   "mimetype": "text/x-python",
   "name": "python",
   "nbconvert_exporter": "python",
   "pygments_lexer": "ipython3",
   "version": "3.7.6"
  }
 },
 "nbformat": 4,
 "nbformat_minor": 4
}
