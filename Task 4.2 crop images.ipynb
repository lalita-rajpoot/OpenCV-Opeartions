{
 "cells": [
  {
   "cell_type": "code",
   "execution_count": 25,
   "metadata": {},
   "outputs": [],
   "source": [
    "import cv2\n",
    "import numpy as np"
   ]
  },
  {
   "cell_type": "code",
   "execution_count": 26,
   "metadata": {},
   "outputs": [],
   "source": [
    "# read image1\n",
    "img1 = cv2.imread(r'C:\\Users\\This Pc\\Desktop\\Summer Workspace\\Computer_Vision\\Skynature.jpg')\n",
    "\n",
    "# read image2\n",
    "img2 = cv2.imread(r'C:\\Users\\This Pc\\Desktop\\Summer Workspace\\Computer_Vision\\Greennature.jpg')\n",
    "\n",
    "cv2.imshow(\"NatureImage\", img1)\n",
    "cv2.imshow(\"GreenNature\", img2)\n",
    "cv2.waitKey()\n",
    "cv2.destroyAllWindows()"
   ]
  },
  {
   "cell_type": "code",
   "execution_count": 27,
   "metadata": {},
   "outputs": [],
   "source": [
    "#coordinate of image1  \n",
    "ax1, ax2, ay1,ay2 = 150, 400, 0, 350\n",
    "\n",
    "#coordinating of image2\n",
    "bx1, bx2, by1, by2 = 150, 400, 0, 350\n",
    "\n",
    "#crop image1\n",
    "skynature = img1[ay1:ay2, ax1:ax2]\n",
    "\n",
    "#crop image2\n",
    "greenimg = img2[by1:by2, bx1:bx2]\n",
    "\n",
    "#Display images\n",
    "cv2.imshow(\"Nature\", skynature)\n",
    "cv2.imshow(\"GreenNature\", greenimg)\n",
    "cv2.waitKey()\n",
    "cv2.destroyAllWindows()"
   ]
  },
  {
   "cell_type": "code",
   "execution_count": 28,
   "metadata": {},
   "outputs": [],
   "source": [
    "#swap the  image1(skyimage) with green image\n",
    "img1= cv2.imread('Skynature.jpg')\n",
    "img1[ay1:ay2, ax1:ax2]=greenimg\n",
    "\n",
    "#swap green image with  image1(skyimage)\n",
    "img2 = cv2.imread('Greennature.jpg')\n",
    "img2[by1:by2, bx1:bx2]=skynature\n",
    "\n",
    "#Display swap iamges\n",
    "cv2.imshow(\"GreenNature\",img2)\n",
    "cv2.imshow(\"Nature\",img1)\n",
    "cv2.waitKey()\n",
    "cv2.destroyAllWindows()\n",
    "\n"
   ]
  },
  {
   "cell_type": "code",
   "execution_count": null,
   "metadata": {},
   "outputs": [],
   "source": []
  }
 ],
 "metadata": {
  "kernelspec": {
   "display_name": "Python 3",
   "language": "python",
   "name": "python3"
  },
  "language_info": {
   "codemirror_mode": {
    "name": "ipython",
    "version": 3
   },
   "file_extension": ".py",
   "mimetype": "text/x-python",
   "name": "python",
   "nbconvert_exporter": "python",
   "pygments_lexer": "ipython3",
   "version": "3.7.6"
  }
 },
 "nbformat": 4,
 "nbformat_minor": 4
}
